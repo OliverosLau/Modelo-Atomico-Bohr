{
 "cells": [
  {
   "cell_type": "code",
   "execution_count": null,
   "id": "7b1b0391-c94f-4e1d-8477-539512aac65a",
   "metadata": {},
   "outputs": [],
   "source": [
    "# Testeando el archivo bohrsimulation.\n",
    "# Importación de librerías \n",
    "import pytest\n",
    "from vpython import vector, curve\n",
    "from bohrsimulation import circle  # Asegúrate de cambiar \"your_module\" por el nombre real del módulo.\n",
    "\n",
    "def test_circle_creation():\n",
    "    # Datos de prueba\n",
    "    radius = 1.0\n",
    "    thickness = 0.1\n",
    "    tint = vector(1, 0, 0)  # Color rojo\n",
    "    \n",
    "    # Llamada a la función\n",
    "    result = circle(radius, thickness, tint)\n",
    "    \n",
    "    # Verifica que el resultado es un objeto de tipo curve\n",
    "    assert isinstance(result, curve), \"El resultado no es un objeto curve\"\n",
    "    \n",
    "    # Verificar que el grosor de la línea\n",
    "    assert result.radius == thickness, f\"El grosor de la curva debería ser {thickness}\"\n",
    "    \n",
    "    # Verificar que el color de la curva \n",
    "    assert result.color == tint, f\"El color debería ser {tint}\"\n",
    "    \n",
    "    # Verificar la cantidad de puntos generados (50)\n",
    "    assert len(result.points) == 50\n",
    "\n"
   ]
  }
 ],
 "metadata": {
  "kernelspec": {
   "display_name": "Python 3 (ipykernel)",
   "language": "python",
   "name": "python3"
  },
  "language_info": {
   "codemirror_mode": {
    "name": "ipython",
    "version": 3
   },
   "file_extension": ".py",
   "mimetype": "text/x-python",
   "name": "python",
   "nbconvert_exporter": "python",
   "pygments_lexer": "ipython3",
   "version": "3.10.12"
  }
 },
 "nbformat": 4,
 "nbformat_minor": 5
}
